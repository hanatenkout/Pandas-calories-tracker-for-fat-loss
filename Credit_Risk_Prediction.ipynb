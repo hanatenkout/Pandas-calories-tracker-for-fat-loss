{
  "nbformat": 4,
  "nbformat_minor": 0,
  "metadata": {
    "colab": {
      "provenance": [],
      "authorship_tag": "ABX9TyNBMmcUOPPSUkSMGxk7YRUi",
      "include_colab_link": true
    },
    "kernelspec": {
      "name": "python3",
      "display_name": "Python 3"
    },
    "language_info": {
      "name": "python"
    }
  },
  "cells": [
    {
      "cell_type": "markdown",
      "metadata": {
        "id": "view-in-github",
        "colab_type": "text"
      },
      "source": [
        "<a href=\"https://colab.research.google.com/github/hanatenkout/Pandas-calories-tracker-for-fat-loss/blob/main/Credit_Risk_Prediction.ipynb\" target=\"_parent\"><img src=\"https://colab.research.google.com/assets/colab-badge.svg\" alt=\"Open In Colab\"/></a>"
      ]
    },
    {
      "cell_type": "markdown",
      "source": [
        "### Introduction\n",
        "\n",
        "This notebook presents a **professional data analysis workflow** applied to the German Credit dataset.  \n",
        "The goal is to explore client credit data, identify risk patterns, and provide actionable insights for banking decision-making.  \n",
        "\n",
        "The workflow follows standard industry practice:  \n",
        "1. **Data Exploration:** Understanding variables, distributions, and correlations.  \n",
        "2. **Statistical Analysis:** Calculating probabilities, identifying high-risk client segments, and clustering.  \n",
        "3. **Visualization:** Using charts and tables to make insights interpretable.  \n",
        "4. **Actionable Insights:** Highlighting client segments with high or low credit risk, supporting portfolio management and policy decisions.  \n",
        "\n",
        "This project demonstrates both **technical data analysis skills** and **business-oriented insights**, mimicking real-world banking analytics tasks."
      ],
      "metadata": {
        "id": "obE9-cZMPGnZ"
      }
    },
    {
      "cell_type": "code",
      "source": [
        "from google.colab import files\n",
        "uploaded = files.upload()"
      ],
      "metadata": {
        "colab": {
          "base_uri": "https://localhost:8080/",
          "height": 64
        },
        "id": "D9t6lnhsPMN_",
        "outputId": "149d7220-157f-4fcd-8294-b2e8ab7a6f4c"
      },
      "execution_count": null,
      "outputs": [
        {
          "output_type": "display_data",
          "data": {
            "text/plain": [
              "<IPython.core.display.HTML object>"
            ],
            "text/html": [
              "\n",
              "     <input type=\"file\" id=\"files-381de5ae-5cc1-4d50-8db1-545e51305d22\" name=\"files[]\" multiple disabled\n",
              "        style=\"border:none\" />\n",
              "     <output id=\"result-381de5ae-5cc1-4d50-8db1-545e51305d22\">\n",
              "      Upload widget is only available when the cell has been executed in the\n",
              "      current browser session. Please rerun this cell to enable.\n",
              "      </output>\n",
              "      <script>// Copyright 2017 Google LLC\n",
              "//\n",
              "// Licensed under the Apache License, Version 2.0 (the \"License\");\n",
              "// you may not use this file except in compliance with the License.\n",
              "// You may obtain a copy of the License at\n",
              "//\n",
              "//      http://www.apache.org/licenses/LICENSE-2.0\n",
              "//\n",
              "// Unless required by applicable law or agreed to in writing, software\n",
              "// distributed under the License is distributed on an \"AS IS\" BASIS,\n",
              "// WITHOUT WARRANTIES OR CONDITIONS OF ANY KIND, either express or implied.\n",
              "// See the License for the specific language governing permissions and\n",
              "// limitations under the License.\n",
              "\n",
              "/**\n",
              " * @fileoverview Helpers for google.colab Python module.\n",
              " */\n",
              "(function(scope) {\n",
              "function span(text, styleAttributes = {}) {\n",
              "  const element = document.createElement('span');\n",
              "  element.textContent = text;\n",
              "  for (const key of Object.keys(styleAttributes)) {\n",
              "    element.style[key] = styleAttributes[key];\n",
              "  }\n",
              "  return element;\n",
              "}\n",
              "\n",
              "// Max number of bytes which will be uploaded at a time.\n",
              "const MAX_PAYLOAD_SIZE = 100 * 1024;\n",
              "\n",
              "function _uploadFiles(inputId, outputId) {\n",
              "  const steps = uploadFilesStep(inputId, outputId);\n",
              "  const outputElement = document.getElementById(outputId);\n",
              "  // Cache steps on the outputElement to make it available for the next call\n",
              "  // to uploadFilesContinue from Python.\n",
              "  outputElement.steps = steps;\n",
              "\n",
              "  return _uploadFilesContinue(outputId);\n",
              "}\n",
              "\n",
              "// This is roughly an async generator (not supported in the browser yet),\n",
              "// where there are multiple asynchronous steps and the Python side is going\n",
              "// to poll for completion of each step.\n",
              "// This uses a Promise to block the python side on completion of each step,\n",
              "// then passes the result of the previous step as the input to the next step.\n",
              "function _uploadFilesContinue(outputId) {\n",
              "  const outputElement = document.getElementById(outputId);\n",
              "  const steps = outputElement.steps;\n",
              "\n",
              "  const next = steps.next(outputElement.lastPromiseValue);\n",
              "  return Promise.resolve(next.value.promise).then((value) => {\n",
              "    // Cache the last promise value to make it available to the next\n",
              "    // step of the generator.\n",
              "    outputElement.lastPromiseValue = value;\n",
              "    return next.value.response;\n",
              "  });\n",
              "}\n",
              "\n",
              "/**\n",
              " * Generator function which is called between each async step of the upload\n",
              " * process.\n",
              " * @param {string} inputId Element ID of the input file picker element.\n",
              " * @param {string} outputId Element ID of the output display.\n",
              " * @return {!Iterable<!Object>} Iterable of next steps.\n",
              " */\n",
              "function* uploadFilesStep(inputId, outputId) {\n",
              "  const inputElement = document.getElementById(inputId);\n",
              "  inputElement.disabled = false;\n",
              "\n",
              "  const outputElement = document.getElementById(outputId);\n",
              "  outputElement.innerHTML = '';\n",
              "\n",
              "  const pickedPromise = new Promise((resolve) => {\n",
              "    inputElement.addEventListener('change', (e) => {\n",
              "      resolve(e.target.files);\n",
              "    });\n",
              "  });\n",
              "\n",
              "  const cancel = document.createElement('button');\n",
              "  inputElement.parentElement.appendChild(cancel);\n",
              "  cancel.textContent = 'Cancel upload';\n",
              "  const cancelPromise = new Promise((resolve) => {\n",
              "    cancel.onclick = () => {\n",
              "      resolve(null);\n",
              "    };\n",
              "  });\n",
              "\n",
              "  // Wait for the user to pick the files.\n",
              "  const files = yield {\n",
              "    promise: Promise.race([pickedPromise, cancelPromise]),\n",
              "    response: {\n",
              "      action: 'starting',\n",
              "    }\n",
              "  };\n",
              "\n",
              "  cancel.remove();\n",
              "\n",
              "  // Disable the input element since further picks are not allowed.\n",
              "  inputElement.disabled = true;\n",
              "\n",
              "  if (!files) {\n",
              "    return {\n",
              "      response: {\n",
              "        action: 'complete',\n",
              "      }\n",
              "    };\n",
              "  }\n",
              "\n",
              "  for (const file of files) {\n",
              "    const li = document.createElement('li');\n",
              "    li.append(span(file.name, {fontWeight: 'bold'}));\n",
              "    li.append(span(\n",
              "        `(${file.type || 'n/a'}) - ${file.size} bytes, ` +\n",
              "        `last modified: ${\n",
              "            file.lastModifiedDate ? file.lastModifiedDate.toLocaleDateString() :\n",
              "                                    'n/a'} - `));\n",
              "    const percent = span('0% done');\n",
              "    li.appendChild(percent);\n",
              "\n",
              "    outputElement.appendChild(li);\n",
              "\n",
              "    const fileDataPromise = new Promise((resolve) => {\n",
              "      const reader = new FileReader();\n",
              "      reader.onload = (e) => {\n",
              "        resolve(e.target.result);\n",
              "      };\n",
              "      reader.readAsArrayBuffer(file);\n",
              "    });\n",
              "    // Wait for the data to be ready.\n",
              "    let fileData = yield {\n",
              "      promise: fileDataPromise,\n",
              "      response: {\n",
              "        action: 'continue',\n",
              "      }\n",
              "    };\n",
              "\n",
              "    // Use a chunked sending to avoid message size limits. See b/62115660.\n",
              "    let position = 0;\n",
              "    do {\n",
              "      const length = Math.min(fileData.byteLength - position, MAX_PAYLOAD_SIZE);\n",
              "      const chunk = new Uint8Array(fileData, position, length);\n",
              "      position += length;\n",
              "\n",
              "      const base64 = btoa(String.fromCharCode.apply(null, chunk));\n",
              "      yield {\n",
              "        response: {\n",
              "          action: 'append',\n",
              "          file: file.name,\n",
              "          data: base64,\n",
              "        },\n",
              "      };\n",
              "\n",
              "      let percentDone = fileData.byteLength === 0 ?\n",
              "          100 :\n",
              "          Math.round((position / fileData.byteLength) * 100);\n",
              "      percent.textContent = `${percentDone}% done`;\n",
              "\n",
              "    } while (position < fileData.byteLength);\n",
              "  }\n",
              "\n",
              "  // All done.\n",
              "  yield {\n",
              "    response: {\n",
              "      action: 'complete',\n",
              "    }\n",
              "  };\n",
              "}\n",
              "\n",
              "scope.google = scope.google || {};\n",
              "scope.google.colab = scope.google.colab || {};\n",
              "scope.google.colab._files = {\n",
              "  _uploadFiles,\n",
              "  _uploadFilesContinue,\n",
              "};\n",
              "})(self);\n",
              "</script> "
            ]
          },
          "metadata": {}
        }
      ]
    },
    {
      "cell_type": "code",
      "source": [
        "\n",
        "import pandas as pd\n",
        "import matplotlib.pyplot as plt\n",
        "import seaborn as sns"
      ],
      "metadata": {
        "id": "mEaWb5og8MUn"
      },
      "execution_count": null,
      "outputs": []
    },
    {
      "cell_type": "code",
      "source": [
        "df = pd.read_csv(\"german.csv\")\n",
        "print(df.head())\n",
        "print(df.info())\n",
        "print(df.describe())\n",
        "print(df.columns)"
      ],
      "metadata": {
        "id": "ivRY_uc09ydN"
      },
      "execution_count": null,
      "outputs": []
    },
    {
      "cell_type": "code",
      "source": [
        "print(df.columns)"
      ],
      "metadata": {
        "id": "M0OpTV1k_Fco"
      },
      "execution_count": null,
      "outputs": []
    },
    {
      "cell_type": "code",
      "source": [
        "print(df.columns.tolist())"
      ],
      "metadata": {
        "id": "5zL76cJ7_4Dz"
      },
      "execution_count": null,
      "outputs": []
    },
    {
      "cell_type": "code",
      "source": [
        "df = pd.read_csv(\"german.csv\", sep=\";\")\n",
        "print(df.columns)"
      ],
      "metadata": {
        "id": "q0syooJYAvUt"
      },
      "execution_count": null,
      "outputs": []
    },
    {
      "cell_type": "code",
      "source": [
        "\n",
        "sns.countplot(x=\"Creditability\", data=df)\n",
        "plt.show()"
      ],
      "metadata": {
        "id": "FbkNQWZqAbbv"
      },
      "execution_count": null,
      "outputs": []
    },
    {
      "cell_type": "markdown",
      "source": [
        "Interpretation:\n",
        "The plot shows the distribution of customers based on their creditability. We can see that the majority of clients are classified as having good credit (1), while only a smaller proportion fall into the bad credit category (0). This indicates that the dataset is imbalanced, with far more good credit cases than bad ones. Such imbalance is important to consider later during modeling, as it may affect the performance of predictive algorithms."
      ],
      "metadata": {
        "id": "NpZi6XnkBksL"
      }
    },
    {
      "cell_type": "code",
      "source": [
        "\n",
        "plt.figure(figsize=(6,4))\n",
        "sns.boxplot(x=\"Creditability\", y=\"Duration_of_Credit_monthly\", data=df)\n",
        "plt.show()"
      ],
      "metadata": {
        "id": "K2nPbwzfBmxR"
      },
      "execution_count": null,
      "outputs": []
    },
    {
      "cell_type": "markdown",
      "source": [
        "Interpretation:\n",
        "This boxplot compares loan duration across creditability groups. Clients with bad credit (0) generally have longer loan durations compared to those with good credit (1). This suggests that longer repayment periods may be associated with higher credit risk"
      ],
      "metadata": {
        "id": "gBj7y6x-B2-n"
      }
    },
    {
      "cell_type": "code",
      "source": [
        "\n",
        "plt.figure(figsize=(7,5))\n",
        "sns.histplot(data=df, x=\"Duration_of_Credit_monthly\", hue=\"Creditability\", multiple=\"stack\", bins=20)\n",
        "plt.show()"
      ],
      "metadata": {
        "id": "kZSVn4usCWiz"
      },
      "execution_count": null,
      "outputs": []
    },
    {
      "cell_type": "markdown",
      "source": [
        "Interpretation:\n",
        "This histogram shows the distribution of loan duration by creditability. Good credit clients (1) are concentrated in shorter loan durations, while bad credit clients (0) are more represented in longer loan durations. This provides a clearer picture of how risk increases with loan duration."
      ],
      "metadata": {
        "id": "dbcLTM_oCdaI"
      }
    },
    {
      "cell_type": "code",
      "source": [
        "\n",
        "plt.figure(figsize=(7,5))\n",
        "sns.histplot(data=df, x=\"Credit_Amount\", hue=\"Creditability\", multiple=\"stack\", bins=30)\n",
        "plt.show()"
      ],
      "metadata": {
        "id": "yqfuVpsECfV8"
      },
      "execution_count": null,
      "outputs": []
    },
    {
      "cell_type": "markdown",
      "source": [
        "This histogram shows the distribution of credit amount by creditability. Clients with good credit (1) are more concentrated in smaller loan amounts, while bad credit clients (0) appear more frequently in higher loan amounts. This suggests that larger loans may be associated with greater credit risk."
      ],
      "metadata": {
        "id": "mUD9se84Cvjn"
      }
    },
    {
      "cell_type": "code",
      "source": [
        "\n",
        "plt.figure(figsize=(10,6))\n",
        "sns.countplot(x=\"Purpose\", hue=\"Creditability\", data=df)\n",
        "plt.xticks(rotation=45)\n",
        "plt.show()"
      ],
      "metadata": {
        "id": "PjDIywcYCwSE"
      },
      "execution_count": null,
      "outputs": []
    },
    {
      "cell_type": "markdown",
      "source": [
        "This plot shows the distribution of loan purposes by creditability. We can see that certain purposes (e.g., car purchase or furniture) are mostly associated with good credit (1), while other categories may show higher proportions of bad credit (0). This indicates that the purpose of the loan can influence the risk level, and some loan types may carry more default risk than others."
      ],
      "metadata": {
        "id": "9oePa-fhC-_8"
      }
    },
    {
      "cell_type": "code",
      "source": [
        "\n",
        "df[\"Creditability_label\"] = df[\"Creditability\"].map({1: \"Good Credit\", 0: \"Bad Credit\"})\n",
        "\n",
        "plt.figure(figsize=(10,6))\n",
        "sns.countplot(x=\"Value_Savings_Stocks\", hue=\"Creditability_label\", data=df)\n",
        "plt.xticks(rotation=45)\n",
        "plt.show()"
      ],
      "metadata": {
        "id": "KmBYNzISDBII"
      },
      "execution_count": null,
      "outputs": []
    },
    {
      "cell_type": "markdown",
      "source": [
        "Interpretation:\n",
        "The plot shows the relationship between customers’ savings/stock values and their creditability. Clients with higher savings (e.g., more than 500 DM) are mostly classified as good credit, while those with little or no savings are more often classified as bad credit. This suggests that financial reserves play an important role in reducing credit risk, as customers with savings are less likely to default."
      ],
      "metadata": {
        "id": "ZcvTqbkRDWqr"
      }
    },
    {
      "cell_type": "code",
      "source": [
        "\n",
        "balance_counts = df[\"Account_Balance\"].value_counts()\n",
        "colors = [\"#66b3ff\", \"#ff9999\", \"#99ff99\", \"#ffcc99\"]\n",
        "\n",
        "plt.figure(figsize=(6,6))\n",
        "plt.pie(balance_counts, labels=[f\"{cat} ({pct:.1f}%)\" for cat, pct in zip(balance_counts.index, 100*balance_counts/len(df))],\n",
        "        colors=colors, startangle=90)\n",
        "plt.title(\"Distribution of Account Balance\")\n",
        "plt.legend(balance_counts.index, title=\"Account Balance Categories\")\n",
        "plt.show()"
      ],
      "metadata": {
        "id": "lsoE2SfOEi6q"
      },
      "execution_count": null,
      "outputs": []
    },
    {
      "cell_type": "markdown",
      "source": [
        "Interpretation:\n",
        "The pie chart shows the distribution of customers by account balance categories. Each slice is labeled with its category and percentage. The colors represent the following:\n",
        "\n",
        "Blue: No Account\n",
        "\n",
        "Red: Negative Balance (< 0 DM)\n",
        "\n",
        "Green: Small Balance (0–200 DM)\n",
        "\n",
        "Orange: Large Balance (≥ 200 DM)"
      ],
      "metadata": {
        "id": "yxoQDBAaE5Cn"
      }
    },
    {
      "cell_type": "code",
      "source": [
        "\n",
        "plt.figure(figsize=(8,6))\n",
        "sns.scatterplot(x=\"Duration_of_Credit_monthly\", y=\"Credit_Amount\", hue=\"Creditability\", data=df, palette={1:\"green\", 0:\"red\"})\n",
        "plt.title(\"Credit Amount vs Duration of Credit by Creditability\")\n",
        "plt.xlabel(\"Duration of Credit (months)\")\n",
        "plt.ylabel(\"Credit Amount\")\n",
        "plt.show()"
      ],
      "metadata": {
        "id": "X8CbuLd8FNvl"
      },
      "execution_count": null,
      "outputs": []
    },
    {
      "cell_type": "code",
      "source": [],
      "metadata": {
        "id": "AuO2EzNfF4RO"
      },
      "execution_count": null,
      "outputs": []
    },
    {
      "cell_type": "markdown",
      "source": [
        "Interpretation:\n",
        "The scatter plot shows the relationship between loan duration and credit amount. Green points (Good Credit) are generally concentrated in shorter durations and moderate loan amounts, while red points (Bad Credit) are more scattered, often corresponding to higher loan amounts and longer durations. This indicates that larger and longer loans may carry higher credit risk."
      ],
      "metadata": {
        "id": "qyZp4gEoFtpb"
      }
    },
    {
      "cell_type": "code",
      "source": [
        "\n",
        "plt.figure(figsize=(10,6))\n",
        "sns.barplot(x=\"Duration_of_Credit_monthly\", y=\"Credit_Amount\", data=df, estimator=\"mean\")\n",
        "plt.title(\"Average Credit Amount by Credit Duration\")\n",
        "plt.xlabel(\"Duration of Credit (months)\")\n",
        "plt.ylabel(\"Average Credit Amount\")\n",
        "plt.show()"
      ],
      "metadata": {
        "id": "t7dWusx9FgJ1"
      },
      "execution_count": null,
      "outputs": []
    },
    {
      "cell_type": "markdown",
      "source": [
        "Interpretation:\n",
        "This barplot shows the average credit amount for each credit duration. We can see that longer credit durations generally correspond to higher average loan amounts. This simplified visualization makes it easier to understand how loan size increases with duration."
      ],
      "metadata": {
        "id": "u69pr41HFve0"
      }
    },
    {
      "cell_type": "code",
      "source": [
        "\n",
        "import matplotlib.pyplot as plt\n",
        "avg_credit = df.groupby(\"Duration_of_Credit_monthly\")[\"Credit_Amount\"].mean()\n",
        "\n",
        "plt.figure(figsize=(10,6))\n",
        "plt.plot(avg_credit.index, avg_credit.values, marker='o')\n",
        "plt.title(\"Average Credit Amount over Credit Duration (Time Series)\")\n",
        "plt.xlabel(\"Duration of Credit (months)\")\n",
        "plt.ylabel(\"Average Credit Amount\")\n",
        "plt.grid(True)\n",
        "plt.show()"
      ],
      "metadata": {
        "id": "bzmCJtQ0F5ZG"
      },
      "execution_count": null,
      "outputs": []
    },
    {
      "cell_type": "markdown",
      "source": [
        "Interpretation:\n",
        "This chart shows how the average credit amount changes over different credit durations. We can see that, generally, longer credit durations are associated with higher loan amounts. This trend provides insight into customer borrowing behavior and can be useful for risk assessment and econometric analysis."
      ],
      "metadata": {
        "id": "HmnT5HvDGZtO"
      }
    },
    {
      "cell_type": "code",
      "source": [
        "\n",
        "plt.figure(figsize=(10,6))\n",
        "sns.barplot(x=\"Purpose\", y=\"Credit_Amount\", hue=\"Creditability_label\", data=df, ci=None)\n",
        "plt.xticks(rotation=45)\n",
        "plt.title(\"Average Credit Amount by Purpose and Creditability\")\n",
        "plt.xlabel(\"Purpose of Credit\")\n",
        "plt.ylabel(\"Average Credit Amount\")\n",
        "plt.show()"
      ],
      "metadata": {
        "id": "YLuZadXTGcDB"
      },
      "execution_count": null,
      "outputs": []
    },
    {
      "cell_type": "markdown",
      "source": [
        "Interpretation:\n",
        "This barplot shows the average credit amount for each loan purpose, with colors indicating creditability. Green bars represent clients with good credit, and red bars represent clients with bad credit. We can observe that some purposes, like car loans or furniture, are mostly associated with good credit, while other purposes, such as personal or miscellaneous loans, tend to have higher proportions of bad credit. This insight helps banks understand which types of loans carry more risk."
      ],
      "metadata": {
        "id": "XA1OoLCMGxWg"
      }
    },
    {
      "cell_type": "code",
      "source": [
        "\n",
        "plt.figure(figsize=(10,8))\n",
        "corr = df.select_dtypes(include=['int64','float64']).corr()\n",
        "sns.heatmap(corr, annot=True, cmap=\"coolwarm\", fmt=\".2f\")\n",
        "plt.title(\"Correlation Heatmap of Numerical Features\")\n",
        "plt.show()"
      ],
      "metadata": {
        "id": "OmvTXYlKGy4V"
      },
      "execution_count": null,
      "outputs": []
    },
    {
      "cell_type": "markdown",
      "source": [
        "Interpretation:\n",
        "The heatmap shows the correlation coefficients between numerical variables. Values close to 1 or -1 indicate strong positive or negative relationships, respectively. For example, we can see how Credit_Amount correlates with Duration_of_Credit_monthly or other variables. This helps identify patterns, dependencies, and potential predictors for credit risk modeling."
      ],
      "metadata": {
        "id": "kMncyX2zHN3d"
      }
    },
    {
      "cell_type": "code",
      "source": [
        "\n",
        "from sklearn.linear_model import LinearRegression\n",
        "import numpy as np\n",
        "import statsmodels.api as sm\n",
        "\n",
        "\n",
        "X = df[[\"Duration_of_Credit_monthly\", \"Creditability\"]]\n",
        "y = df[\"Credit_Amount\"]\n",
        "\n",
        "X = sm.add_constant(X)\n",
        "\n",
        "\n",
        "model = sm.OLS(y, X).fit()\n",
        "\n",
        "\n",
        "print(model.summary())"
      ],
      "metadata": {
        "id": "-JUp85enHabi"
      },
      "execution_count": null,
      "outputs": []
    },
    {
      "cell_type": "code",
      "source": [
        "# Log-transform Credit_Amount to reduce skewness\n",
        "df['Log_Credit_Amount'] = np.log(df['Credit_Amount'])\n",
        "\n",
        "X = df[['Duration_of_Credit_monthly', 'Creditability']]\n",
        "y = df['Log_Credit_Amount']\n",
        "\n",
        "X = sm.add_constant(X)\n",
        "model = sm.OLS(y, X).fit()\n",
        "print(model.summary())"
      ],
      "metadata": {
        "id": "bT1-uungIq4v"
      },
      "execution_count": null,
      "outputs": []
    },
    {
      "cell_type": "code",
      "source": [
        "\n",
        "from sklearn.model_selection import train_test_split\n",
        "from sklearn.preprocessing import StandardScaler\n",
        "from sklearn.linear_model import LogisticRegression\n",
        "from sklearn.metrics import classification_report, confusion_matrix\n",
        "\n",
        "# Features (select numerical columns for simplicity)\n",
        "X = df[['Duration_of_Credit_monthly', 'Credit_Amount']]  # you can add more later\n",
        "y = df['Creditability']\n",
        "\n",
        "# Split into train and test\n",
        "X_train, X_test, y_train, y_test = train_test_split(X, y, test_size=0.2, random_state=42)\n",
        "\n",
        "# Scale features\n",
        "scaler = StandardScaler()\n",
        "X_train = scaler.fit_transform(X_train)\n",
        "X_test = scaler.transform(X_test)"
      ],
      "metadata": {
        "id": "ue9kPWBAIvXt"
      },
      "execution_count": null,
      "outputs": []
    },
    {
      "cell_type": "code",
      "source": [
        "\n",
        "model = LogisticRegression()\n",
        "model.fit(X_train, y_train)\n",
        "\n",
        "# Predictions\n",
        "y_pred = model.predict(X_test)\n",
        "\n",
        "# Evaluate\n",
        "print(confusion_matrix(y_test, y_pred))\n",
        "print(classification_report(y_test, y_pred))"
      ],
      "metadata": {
        "id": "uOfQ9VWTI8zW"
      },
      "execution_count": null,
      "outputs": []
    },
    {
      "cell_type": "markdown",
      "source": [
        "Interpretation\n",
        "\n",
        "Confusion Matrix shows how many clients were correctly predicted as Good or Bad credit.\n",
        "\n",
        "Classification Report gives precision, recall, f1-score — all important metrics to evaluate model performance.\n",
        "\n",
        "If the model works well, it can predict the risk of new clients based on their loan amount and duration."
      ],
      "metadata": {
        "id": "RySdf4ssJGcX"
      }
    },
    {
      "cell_type": "code",
      "source": [
        "\n",
        "portfolio = df.groupby(['Duration_group', 'Account_Balance']).agg({\n",
        "    'Credit_Amount':'mean',\n",
        "    'Creditability':'mean'\n",
        "}).reset_index()\n",
        "\n",
        "portfolio['Bad_Credit_Probability'] = 1 - portfolio['Creditability']\n",
        "\n",
        "plt.figure(figsize=(10,6))\n",
        "plt.scatter(\n",
        "    x=portfolio['Duration_group'].cat.codes,\n",
        "    y=portfolio['Credit_Amount'],\n",
        "    s=portfolio['Bad_Credit_Probability']*1000,\n",
        "    c=portfolio['Account_Balance'].astype('category').cat.codes,\n",
        "    cmap='viridis',\n",
        "    alpha=0.6\n",
        ")\n",
        "plt.colorbar(label='Account Balance')\n",
        "plt.xticks(range(len(portfolio['Duration_group'].cat.categories)), portfolio['Duration_group'].cat.categories, rotation=45)\n",
        "plt.xlabel(\"Duration of Credit (months)\")\n",
        "plt.ylabel(\"Average Credit Amount\")\n",
        "plt.title(\"Portfolio Overview: Risk vs Loan Amount and Duration\")\n",
        "plt.show()"
      ],
      "metadata": {
        "id": "aWBKwyw_KO-P"
      },
      "execution_count": null,
      "outputs": []
    },
    {
      "cell_type": "markdown",
      "source": [
        "Portfolio Overview Bubble Chart\n",
        "\n",
        "X-axis: Loan duration\n",
        "\n",
        "Y-axis: Average credit amount\n",
        "\n",
        "Bubble size: Proportion of bad credit (risk)\n",
        "\n",
        "Color: Account balance category\n",
        "\n",
        "\n",
        "Interpretation:\n",
        "\n",
        "Bigger bubbles indicate higher risk.\n",
        "\n",
        "High-value, long-duration loans with small account balances are the riskiest.\n",
        "\n",
        "Bank workers can instantly see which groups of clients are safe vs risky, helping them make lending decisions and manage credit portfolio efficiently."
      ],
      "metadata": {
        "id": "1fkAvV79Kep5"
      }
    },
    {
      "cell_type": "code",
      "source": [
        "\n",
        "from sklearn.cluster import KMeans\n",
        "from sklearn.preprocessing import StandardScaler\n",
        "\n",
        "features = df[['Credit_Amount', 'Duration_of_Credit_monthly', 'Value_Savings_Stocks']].dropna()\n",
        "scaler = StandardScaler()\n",
        "X_scaled = scaler.fit_transform(features)\n",
        "\n",
        "kmeans = KMeans(n_clusters=4, random_state=42)\n",
        "clusters = kmeans.fit_predict(X_scaled)\n",
        "\n",
        "features['Cluster'] = clusters\n",
        "features['Creditability'] = df.loc[features.index, 'Creditability']"
      ],
      "metadata": {
        "id": "FvGBOS3DLaVW"
      },
      "execution_count": null,
      "outputs": []
    },
    {
      "cell_type": "code",
      "source": [
        "\n",
        "plt.figure(figsize=(10,6))\n",
        "plt.scatter(\n",
        "    features['Credit_Amount'],\n",
        "    features['Duration_of_Credit_monthly'],\n",
        "    c=features['Cluster'],\n",
        "    cmap='viridis',\n",
        "    s=features['Creditability']*100 + 50,\n",
        "    alpha=0.6\n",
        ")\n",
        "plt.xlabel(\"Credit Amount\")\n",
        "plt.ylabel(\"Duration of Credit (months)\")\n",
        "plt.title(\"Customer Segmentation by Credit Amount, Duration, and Risk\")\n",
        "plt.colorbar(label='Cluster')\n",
        "plt.show()"
      ],
      "metadata": {
        "id": "w5mYyOHsLgWH"
      },
      "execution_count": null,
      "outputs": []
    },
    {
      "cell_type": "markdown",
      "source": [
        "Interpretation (Statistical)\n",
        "\n",
        "Clusters represent natural groupings of clients based on loan amount, duration, and savings.\n",
        "\n",
        "Bubble size = Creditability (Good vs Bad credit) → shows risk in each cluster.\n",
        "\n",
        "Observations:\n",
        "\n",
        "Cluster 0: small loans, short duration, high savings → mostly Good Credit.\n",
        "\n",
        "Cluster 1: large loans, long duration, low savings → mostly Bad Credit → high-risk group.\n",
        "\n",
        "Clusters 2 & 3: mixed profiles → moderate risk.\n",
        "\n",
        "\n",
        "This analysis allows the bank to target risk management and adjust lending policies for each client segment."
      ],
      "metadata": {
        "id": "jRBhPbrMLy5p"
      }
    },
    {
      "cell_type": "code",
      "source": [
        "\n",
        "cluster_stats = features.groupby('Cluster')['Creditability'].agg(['count','mean'])\n",
        "cluster_stats['Bad_Credit_Probability'] = 1 - cluster_stats['mean']\n",
        "cluster_stats = cluster_stats[['count','Bad_Credit_Probability']].sort_values(by='Bad_Credit_Probability', ascending=False)\n",
        "cluster_stats"
      ],
      "metadata": {
        "id": "q02BC17gMJ0V"
      },
      "execution_count": null,
      "outputs": []
    },
    {
      "cell_type": "markdown",
      "source": [
        "Interpretation (Statistical)\n",
        "\n",
        "count = number of clients in each cluster.\n",
        "\n",
        "Bad_Credit_Probability = proportion of clients in that cluster with bad credit.\n",
        "\n",
        "Observations:\n",
        "\n",
        "Cluster with largest Bad_Credit_Probability → high-risk group (many defaults).\n",
        "\n",
        "Cluster with lowest Bad_Credit_Probability → safe clients (mostly Good Credit).\n",
        "\n",
        "\n",
        "Banks can prioritize monitoring, adjust interest rates, or lending limits for each cluster based on these statistics."
      ],
      "metadata": {
        "id": "qjWIuEoVMTOf"
      }
    },
    {
      "cell_type": "code",
      "source": [
        "\n",
        "cluster_summary = features.groupby('Cluster').agg({\n",
        "    'Credit_Amount':'mean',\n",
        "    'Duration_of_Credit_monthly':'mean',\n",
        "    'Creditability':'mean'\n",
        "}).reset_index()\n",
        "cluster_summary['Bad_Credit_Probability'] = 1 - cluster_summary['Creditability']\n",
        "\n",
        "plt.figure(figsize=(10,6))\n",
        "plt.scatter(\n",
        "    cluster_summary['Duration_of_Credit_monthly'],\n",
        "    cluster_summary['Credit_Amount'],\n",
        "    s=cluster_summary['Bad_Credit_Probability']*2000,\n",
        "    c=cluster_summary['Cluster'],\n",
        "    cmap='viridis',\n",
        "    alpha=0.6\n",
        ")\n",
        "for i, row in cluster_summary.iterrows():\n",
        "    plt.text(row['Duration_of_Credit_monthly'], row['Credit_Amount'], f\"Cluster {int(row['Cluster'])}\", ha='center', va='center')\n",
        "\n",
        "plt.xlabel(\"Average Duration of Credit (months)\")\n",
        "plt.ylabel(\"Average Credit Amount\")\n",
        "plt.title(\"Cluster Portfolio Overview: Risk vs Loan Size and Duration\")\n",
        "plt.colorbar(label='Cluster')\n",
        "plt.show()"
      ],
      "metadata": {
        "id": "0YC4vPMgMXE1"
      },
      "execution_count": null,
      "outputs": []
    },
    {
      "cell_type": "markdown",
      "source": [
        "X-axis: average loan duration per cluster.\n",
        "\n",
        "Y-axis: average loan amount per cluster.\n",
        "\n",
        "Bubble size: proportion of bad credit → bigger bubbles = higher risk.\n",
        "\n",
        "Color: cluster ID.\n",
        "\n",
        "Text labels: cluster number for clarity.\n",
        "\n",
        "\n",
        "Observations:\n",
        "\n",
        "Cluster with high duration, large loans, and small savings → largest bubble → highest risk.\n",
        "\n",
        "Cluster with short duration, small loans, high savings → smallest bubble → low risk.\n",
        "\n",
        "This chart summarizes client segments clearly, helping banks prioritize monitoring, adjust policies, and manage portfolio risk effectively."
      ],
      "metadata": {
        "id": "ArEXmnnDMpXc"
      }
    },
    {
      "cell_type": "code",
      "source": [
        "\n",
        "cluster_report = features.groupby('Cluster').agg({\n",
        "    'Credit_Amount':'mean',\n",
        "    'Duration_of_Credit_monthly':'mean',\n",
        "    'Value_Savings_Stocks':'mean',\n",
        "    'Creditability':'mean',\n",
        "    'Cluster':'count'\n",
        "}).rename(columns={'Cluster':'Num_Clients','Creditability':'Avg_Creditability'}).reset_index()\n",
        "\n",
        "cluster_report['Bad_Credit_Probability'] = 1 - cluster_report['Avg_Creditability']\n",
        "cluster_report = cluster_report[['Cluster','Num_Clients','Credit_Amount','Duration_of_Credit_monthly','Value_Savings_Stocks','Bad_Credit_Probability']]\n",
        "cluster_report"
      ],
      "metadata": {
        "id": "5DrpZfGtMzCG"
      },
      "execution_count": null,
      "outputs": []
    },
    {
      "cell_type": "markdown",
      "source": [
        "Interpretation\n",
        "\n",
        "Cluster: group ID\n",
        "\n",
        "Num_Clients: size of the cluster\n",
        "\n",
        "Credit_Amount: average loan per cluster\n",
        "\n",
        "Duration_of_Credit_monthly: average loan duration\n",
        "\n",
        "Value_Savings_Stocks: average savings/stocks\n",
        "\n",
        "Bad_Credit_Probability: proportion of clients in that cluster with bad credit\n",
        "\n",
        "\n",
        "Insights:\n",
        "\n",
        "High-risk clusters: large loans, long duration, low savings → high Bad_Credit_Probability\n",
        "\n",
        "Low-risk clusters: small loans, short duration, high savings → low Bad_Credit_Probability\n",
        "\n",
        "This table can be directly used in reports or presentations to show bank executives actionable portfolio insights."
      ],
      "metadata": {
        "id": "ZBD5fIlIM1Xq"
      }
    },
    {
      "cell_type": "markdown",
      "source": [
        "### Conclusion\n",
        "\n",
        "The analysis of the German Credit dataset revealed clear patterns of client risk.  \n",
        "Clients with **large loans, long durations, and low savings** are the highest-risk segments, while those with **small loans, short durations, and high savings** are low-risk.  \n",
        "These insights provide actionable guidance for banks to **adjust lending policies, monitor high-risk clients, and manage their credit portfolio effectively**."
      ],
      "metadata": {
        "id": "CS7InnqrOZnS"
      }
    },
    {
      "cell_type": "markdown",
      "source": [
        "# <span style=\"color:navy;\">Project Summary: Credit Risk Analysis</span>\n",
        "\n",
        "---\n",
        "\n",
        "<span style=\"font-size:18px;\">\n",
        "This project analyzes **credit risk** using the German Credit dataset. Key highlights include:\n",
        "</span>\n",
        "\n",
        "<ul style=\"font-size:16px;\">\n",
        "<li>**Predictive Insights:** Calculated <b>Bad Credit Probability</b> for client groups based on <b>Account Balance</b> and <b>Loan Duration</b>.</li>\n",
        "<li>**Portfolio Overview:** Visualized average <b>Credit Amount</b> vs <b>Loan Duration</b> with bubble size representing risk and color representing clusters.</li>\n",
        "<li>**KMeans Clustering:** Segmented clients into 4 clusters using <b>Credit Amount</b>, <b>Duration</b>, and <b>Savings/Stocks</b>. Identified high-risk vs low-risk clusters with statistical probabilities.</li>\n",
        "<li>**Actionable Insights for Banks:** High-risk clusters identified (large loans, long duration, low savings), allowing banks to adjust policies, lending limits, or monitoring strategies.</li>\n",
        "</ul>\n",
        "\n",
        "<span style=\"font-size:18px; color:green;\">Overall: The analysis combines **statistics, data visualization, and practical insights**, making it highly actionable and presentation-ready for banking professionals.</span>"
      ],
      "metadata": {
        "id": "WliHKeNbOcNf"
      }
    }
  ]
}